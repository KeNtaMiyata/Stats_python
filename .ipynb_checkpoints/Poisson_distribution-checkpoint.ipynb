{
 "cells": [
  {
   "cell_type": "code",
   "execution_count": 3,
   "id": "e416732c",
   "metadata": {},
   "outputs": [],
   "source": [
    "import numpy as np\n",
    "import math\n",
    "import matplotlib.pyplot as plt"
   ]
  },
  {
   "cell_type": "code",
   "execution_count": 9,
   "id": "86b6f7d9",
   "metadata": {},
   "outputs": [],
   "source": [
    "def poisson(x,lamb):\n",
    "    result = (math.exp(-lamb)) * (lamb **x) / math.factorial(x)\n",
    "    return result"
   ]
  },
  {
   "cell_type": "code",
   "execution_count": 14,
   "id": "937ab6bf",
   "metadata": {},
   "outputs": [],
   "source": [
    "x = np.arange(1, 50,1)\n",
    "y1 = [poisson(10, i) for i in x]\n",
    "y2 = [poisson(20, i) for i in x]\n",
    "y3 = [poisson(30, i) for i in x]\n"
   ]
  },
  {
   "cell_type": "code",
   "execution_count": 15,
   "id": "a412c7fa",
   "metadata": {},
   "outputs": [
    {
     "data": {
      "image/png": "[encoded data removed]",
      "text/plain": [
       "<Figure size 432x288 with 1 Axes>"
      ]
     },
     "metadata": {
      "needs_background": "light"
     },
     "output_type": "display_data"
    }
   ],
   "source": [
    "from scipy.stats import poisson\n",
    "\n",
    "x =  np.arange(1, 50, 1)\n",
    "y1= [poisson.pmf(i, 10) for i in x]\n",
    "y2= [poisson.pmf(i, 20) for i in x]\n",
    "y3= [poisson.pmf(i, 30) for i in x]\n",
    "\n",
    "plt.bar(x, y1, align=\"center\", width=0.4, color=\"red\"\n",
    "                ,alpha=0.5, label=\"Poisson λ= %d\" % 10)\n",
    "\n",
    "plt.bar(x, y2, align=\"center\", width=0.4, color=\"green\"\n",
    "                ,alpha=0.5, label=\"Poisson λ= %d\" % 20)\n",
    "\n",
    "plt.bar(x, y3, align=\"center\", width=0.4, color=\"blue\"\n",
    "                ,alpha=0.5, label=\"Poisson λ= %d\" % 30)\n",
    "\n",
    "plt.legend()\n",
    "plt.show()\n"
   ]
  }
 ],
 "metadata": {
  "kernelspec": {
   "display_name": "Python 3 (ipykernel)",
   "language": "python",
   "name": "python3"
  },
  "language_info": {
   "codemirror_mode": {
    "name": "ipython",
    "version": 3
   },
   "file_extension": ".py",
   "mimetype": "text/x-python",
   "name": "python",
   "nbconvert_exporter": "python",
   "pygments_lexer": "ipython3",
   "version": "3.9.12"
  }
 },
 "nbformat": 4,
 "nbformat_minor": 5
}
